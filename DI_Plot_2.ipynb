{
 "cells": [
  {
   "cell_type": "code",
   "execution_count": null,
   "metadata": {},
   "outputs": [],
   "source": [
    "import pandas as pd\n",
    "import plotly_express as px\n",
    "\n",
    "df = pd.read_excel('Africa_1997_2019.xlsx')\n",
    "\n",
    "def check_len(x):\n",
    "    if isinstance(x, str)==True:\n",
    "        return int(len(x))\n",
    "    \n",
    "df['notes_len'] = df['NOTES'].apply(lambda x: check_len(x))\n",
    "\n",
    "\n",
    "notes_len_region_yr = df.groupby(['REGION', 'YEAR'])['notes_len'].mean().reset_index()\n",
    "nigeria = df[df['COUNTRY']=='Nigeria']\n",
    "nigeria_len = nigeria.groupby('YEAR').mean().reset_index()\n",
    "\n",
    "ni_cty_yr_len = nigeria[['COUNTRY', 'YEAR', 'notes_len']]\n",
    "ni_cty_yr_len = ni_cty_yr_len.groupby('YEAR').mean().reset_index()\n",
    "ni_cty_yr_len['REGION']= 'Nigeria'\n",
    "ni_cty_yr_len = ni_cty_yr_len[['REGION', 'YEAR', 'notes_len']]\n",
    "region_nigeria = notes_len_region_yr.append(ni_cty_yr_len)\n",
    "\n",
    "px.line(region_nigeria, x='YEAR', y='notes_len', color='REGION')"
   ]
  },
  {
   "cell_type": "code",
   "execution_count": null,
   "metadata": {},
   "outputs": [],
   "source": []
  }
 ],
 "metadata": {
  "kernelspec": {
   "display_name": "Python 3",
   "language": "python",
   "name": "python3"
  },
  "language_info": {
   "codemirror_mode": {
    "name": "ipython",
    "version": 3
   },
   "file_extension": ".py",
   "mimetype": "text/x-python",
   "name": "python",
   "nbconvert_exporter": "python",
   "pygments_lexer": "ipython3",
   "version": "3.7.3"
  }
 },
 "nbformat": 4,
 "nbformat_minor": 2
}
